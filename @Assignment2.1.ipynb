{
 "cells": [
  {
   "cell_type": "code",
   "execution_count": 3,
   "id": "6669d35f",
   "metadata": {},
   "outputs": [
    {
     "name": "stdout",
     "output_type": "stream",
     "text": [
      "LETS BEGIN THE GAME\n",
      "Enter a number or q to quit: 78\n",
      "COlDER\n",
      "Enter a number or q to quit: 23\n",
      "WOW! YOU WON THE GAME\n"
     ]
    }
   ],
   "source": [
    " import random\n",
    "\n",
    "a = 1\n",
    "b = 100\n",
    "\n",
    "number = random.randint(a,b)\n",
    "\n",
    "print(\"LETS BEGIN THE GAME\")\n",
    "\n",
    "guesses = [0]\n",
    "\n",
    "while True:\n",
    "    \n",
    "    guess = input(\"Enter a number or q to quit: \")\n",
    "    \n",
    "    if guess.lower() == 'q':\n",
    "        print(f\"The number is {number}.THANK YOU\")\n",
    "        break\n",
    "    \n",
    "    guess = int(guess)\n",
    "    \n",
    "    if guess < 0 or guess > 100:\n",
    "        print(\"OUT OF BOUNDS\")\n",
    "        break\n",
    "    \n",
    "    \n",
    "    if number == guess:\n",
    "        print(\"WOW! YOU WON THE GAME\")\n",
    "        break\n",
    "        \n",
    "   \n",
    "    \n",
    "    guesses.append(guess)\n",
    "    \n",
    "        \n",
    "    if len(guesses) >= -2:\n",
    "        \n",
    "        if abs(number - guess) < abs (number - guesses[-2]):\n",
    "            print(\"WARMER\")\n",
    "        else:\n",
    "            print(\"COlDER\")\n",
    "    else:\n",
    "        \n",
    "        if abs(number - guess) < 10:\n",
    "            print(\"WARM\")\n",
    "\n",
    "        else:\n",
    "            print(\"COLD\")\n",
    "    \n",
    "    \n",
    "\n"
   ]
  }
 ],
 "metadata": {
  "kernelspec": {
   "display_name": "Python 3 (ipykernel)",
   "language": "python",
   "name": "python3"
  },
  "language_info": {
   "codemirror_mode": {
    "name": "ipython",
    "version": 3
   },
   "file_extension": ".py",
   "mimetype": "text/x-python",
   "name": "python",
   "nbconvert_exporter": "python",
   "pygments_lexer": "ipython3",
   "version": "3.11.3"
  }
 },
 "nbformat": 4,
 "nbformat_minor": 5
}
