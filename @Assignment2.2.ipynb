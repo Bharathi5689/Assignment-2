{
 "cells": [
  {
   "cell_type": "markdown",
   "id": "a65bd3c2",
   "metadata": {},
   "source": [
    "#  Functions and Methods Homework \n",
    "\n"
   ]
  },
  {
   "cell_type": "markdown",
   "id": "444ae5b2",
   "metadata": {},
   "source": [
    "# Write a function that computes the volume of a sphere given its radius"
   ]
  },
  {
   "cell_type": "code",
   "execution_count": 1,
   "id": "9b413bc1",
   "metadata": {},
   "outputs": [
    {
     "name": "stdout",
     "output_type": "stream",
     "text": [
      "63.585\n"
     ]
    }
   ],
   "source": [
    "def vol(r):\n",
    "    pass\n",
    "    if r > 0:\n",
    "        vol = ((3/4)* 3.14*r**3)\n",
    "        print(vol)\n",
    "vol(3)\n",
    "    "
   ]
  },
  {
   "cell_type": "markdown",
   "id": "68f04138",
   "metadata": {},
   "source": [
    "# Write a function that checks whether a number is in a given range (inclusive of high and low)"
   ]
  },
  {
   "cell_type": "code",
   "execution_count": 2,
   "id": "9ea3cd89",
   "metadata": {},
   "outputs": [
    {
     "name": "stdout",
     "output_type": "stream",
     "text": [
      "5 is in the range between 2 and 7\n"
     ]
    }
   ],
   "source": [
    "def ran_check(num,low,high):\n",
    "    \n",
    "    if num in range(low,high):\n",
    "        print(f\"{num} is in the range between {low} and {high}\")\n",
    "    else:\n",
    "        print(f\"{num} is in the range between {low} and {high}\")\n",
    "        \n",
    "ran_check(5,2,7)"
   ]
  },
  {
   "cell_type": "markdown",
   "id": "3054620a",
   "metadata": {},
   "source": [
    "# If you only wanted to return a boolean:"
   ]
  },
  {
   "cell_type": "code",
   "execution_count": 3,
   "id": "1818fe7a",
   "metadata": {},
   "outputs": [
    {
     "data": {
      "text/plain": [
       "True"
      ]
     },
     "execution_count": 3,
     "metadata": {},
     "output_type": "execute_result"
    }
   ],
   "source": [
    "def ran_bool(num,low,high):\n",
    "   \n",
    "    if num in range(low,high):\n",
    "        return True\n",
    "    else:\n",
    "        return False\n",
    "    \n",
    "ran_bool(9,1,10)"
   ]
  },
  {
   "cell_type": "markdown",
   "id": "39e24323",
   "metadata": {},
   "source": [
    "# Write a Python function that accepts a string and calculates the number of upper case letters and lower case letters.\n",
    "\n",
    "    Sample String : 'Hello Mr. Rogers, how are you this fine Tuesday?'\n",
    "    Expected Output : \n",
    "    No. of Upper case characters : 4\n",
    "    No. of Lower case Characters : 33\n",
    "\n",
    "HINT: Two string methods that might prove useful: **.isupper()** and **.islower()**\n",
    "\n",
    "If you feel ambitious, explore the Collections module to solve this problem!"
   ]
  },
  {
   "cell_type": "code",
   "execution_count": 4,
   "id": "0c268c80",
   "metadata": {},
   "outputs": [
    {
     "name": "stdout",
     "output_type": "stream",
     "text": [
      "No. of uppercase characters : 4\n",
      "No. of Lowercase characters:  33\n"
     ]
    }
   ],
   "source": [
    "def up_low(s):\n",
    "    \n",
    "    upper_count = 0\n",
    "    lower_count = 0\n",
    "    \n",
    "    for char in s:\n",
    "        if char.isupper():\n",
    "            upper_count += 1\n",
    "        \n",
    "        elif char.islower():\n",
    "            lower_count +=1\n",
    "            \n",
    "    return upper_count, lower_count\n",
    "\n",
    "s = 'Hello Mr. Rogers, how are you this fine Tuesday?'\n",
    "\n",
    "upper_count,lower_count = up_low(s) \n",
    "\n",
    "print(f\"No. of uppercase characters : {upper_count}\")\n",
    "print(f\"No. of Lowercase characters:  {lower_count}\")"
   ]
  },
  {
   "cell_type": "markdown",
   "id": "9349dccf",
   "metadata": {},
   "source": [
    "# Write a Python function that takes a list and returns a new list with unique elements of the first list\n",
    "\n",
    "    Sample List : [1,1,1,1,2,2,3,3,3,3,4,5]\n",
    "    Unique List : [1, 2, 3, 4, 5]"
   ]
  },
  {
   "cell_type": "code",
   "execution_count": 5,
   "id": "f87efe03",
   "metadata": {},
   "outputs": [
    {
     "name": "stdout",
     "output_type": "stream",
     "text": [
      "[1, 2, 3, 4, 5]\n"
     ]
    }
   ],
   "source": [
    "def unique_list(lst):\n",
    "    \n",
    "    elements = set(lst)\n",
    "    print(list(elements))\n",
    "\n",
    "unique_list([1,1,1,1,2,2,3,3,3,3,4,5])"
   ]
  },
  {
   "cell_type": "markdown",
   "id": "48d849a6",
   "metadata": {},
   "source": [
    "# Write a Python function to multiply all the numbers in a list.\n",
    "\n",
    "    Sample List : [1, 2, 3, -4]\n",
    "    Expected Output : -24"
   ]
  },
  {
   "cell_type": "code",
   "execution_count": 8,
   "id": "295e2dad",
   "metadata": {},
   "outputs": [
    {
     "name": "stdout",
     "output_type": "stream",
     "text": [
      "-24\n"
     ]
    }
   ],
   "source": [
    "from functools import reduce\n",
    "\n",
    "def multiply(numbers):  \n",
    "    \n",
    "    result = reduce(lambda a,b : a*b, numbers )\n",
    "    print(result)\n",
    "    \n",
    "multiply([1,2,3,-4])\n",
    "\n"
   ]
  },
  {
   "cell_type": "markdown",
   "id": "14b4a33d",
   "metadata": {},
   "source": [
    "# Write a Python function that checks whether a passed in string is palindrome or not.\n",
    "\n",
    "Note: A palindrome is word, phrase, or sequence that reads the same backward as forward, e.g., madam or nurses run."
   ]
  },
  {
   "cell_type": "code",
   "execution_count": 15,
   "id": "7028707d",
   "metadata": {},
   "outputs": [
    {
     "data": {
      "text/plain": [
       "True"
      ]
     },
     "execution_count": 15,
     "metadata": {},
     "output_type": "execute_result"
    }
   ],
   "source": [
    "def palindrome(s):\n",
    "    s1 = s[::-1]\n",
    "    if  s == s1:\n",
    "        return True    \n",
    "    else:\n",
    "        return False\n",
    "        \n",
    "palindrome('helleh')\n"
   ]
  },
  {
   "cell_type": "markdown",
   "id": "f51f46f0",
   "metadata": {},
   "source": [
    "# Write a Python function to check whether a string is pangram or not.\n",
    "\n",
    "    Note : Pangrams are words or sentences containing every letter of the alphabet at least once.\n",
    "    For example : \"The quick brown fox jumps over the lazy dog\"\n"
   ]
  },
  {
   "cell_type": "code",
   "execution_count": 43,
   "id": "2f4b99a3",
   "metadata": {},
   "outputs": [
    {
     "data": {
      "text/plain": [
       "True"
      ]
     },
     "execution_count": 43,
     "metadata": {},
     "output_type": "execute_result"
    }
   ],
   "source": [
    "import string\n",
    "\n",
    "def ispangram(str1, alphabet = string.ascii_lowercase):\n",
    "   \n",
    "    for letters in alphabet:\n",
    "        if letters not in str1:\n",
    "            return False\n",
    "    return True\n",
    "        \n",
    "    \n",
    "ispangram(\"The quick brown fox jumps over the lazy dog\")\n"
   ]
  },
  {
   "cell_type": "code",
   "execution_count": null,
   "id": "15a41e3f",
   "metadata": {},
   "outputs": [],
   "source": []
  }
 ],
 "metadata": {
  "kernelspec": {
   "display_name": "Python 3 (ipykernel)",
   "language": "python",
   "name": "python3"
  },
  "language_info": {
   "codemirror_mode": {
    "name": "ipython",
    "version": 3
   },
   "file_extension": ".py",
   "mimetype": "text/x-python",
   "name": "python",
   "nbconvert_exporter": "python",
   "pygments_lexer": "ipython3",
   "version": "3.11.3"
  }
 },
 "nbformat": 4,
 "nbformat_minor": 5
}
