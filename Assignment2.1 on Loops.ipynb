{
 "cells": [
  {
   "cell_type": "markdown",
   "metadata": {},
   "source": [
    "# Guessing Game Challenge\n",
    "\n",
    "Let's use `while` loops to create a guessing game.\n",
    "\n",
    "The Challenge:\n",
    "\n",
    "Write a program that picks a random integer from 1 to 100, and has players guess the number. The rules are:\n",
    "\n",
    "1. If a player's guess is less than 1 or greater than 100, say \"OUT OF BOUNDS\"\n",
    "2. On a player's first turn, if their guess is\n",
    " * within 10 of the number, return \"WARM!\"\n",
    " * further than 10 away from the number, return \"COLD!\"\n",
    "3. On all subsequent turns, if a guess is \n",
    " * closer to the number than the previous guess return \"WARMER!\"\n",
    " * farther from the number than the previous guess, return \"COLDER!\"\n",
    "4. When the player's guess equals the number, tell them they've guessed correctly *and* how many guesses it took!\n",
    "\n",
    "You can try this from scratch, or follow the steps outlined below. A separate Solution notebook has been provided. Good luck!\n"
   ]
  },
  {
   "cell_type": "markdown",
   "metadata": {},
   "source": [
    "#### First, pick a random integer from 1 to 100 using the random module and assign it to a variable\n",
    "\n",
    "Note: `random.randint(a,b)` returns a random integer in range `[a, b]`, including both end points."
   ]
  },
  {
   "cell_type": "code",
   "execution_count": 2,
   "metadata": {},
   "outputs": [],
   "source": [
    "import random\n",
    "a = 1\n",
    "b = 100\n",
    "number = random.randint(a,b)"
   ]
  },
  {
   "cell_type": "markdown",
   "metadata": {},
   "source": [
    "#### Next, print an introduction to the game and explain the rules"
   ]
  },
  {
   "cell_type": "code",
   "execution_count": 3,
   "metadata": {},
   "outputs": [
    {
     "name": "stdout",
     "output_type": "stream",
     "text": [
      "Lets play the game\n"
     ]
    }
   ],
   "source": [
    "\n",
    "print(\"Lets play the game\")\n",
    "\n"
   ]
  },
  {
   "cell_type": "markdown",
   "metadata": {},
   "source": [
    "#### Create a list to store guesses\n",
    "\n",
    "Hint: zero is a good placeholder value. It's useful because it evaluates to \"False\""
   ]
  },
  {
   "cell_type": "code",
   "execution_count": 4,
   "metadata": {},
   "outputs": [],
   "source": [
    "guesses = [0] "
   ]
  },
  {
   "cell_type": "markdown",
   "metadata": {},
   "source": [
    "#### Write a `while` loop that asks for a valid guess. Test it a few times to make sure it works."
   ]
  },
  {
   "cell_type": "code",
   "execution_count": 2,
   "metadata": {},
   "outputs": [
    {
     "name": "stdout",
     "output_type": "stream",
     "text": [
      "Lets play the game\n",
      "the number is 15\n"
     ]
    }
   ],
   "source": [
    "import random\n",
    "a = 1\n",
    "b = 100\n",
    "number = random.randint(a,b)\n",
    "print(\"Lets play the game\")\n",
    "guesses = [0] \n",
    "\n",
    "\n",
    "while True:\n",
    "    guess = input(\"Enter a number or press q to quit : \")\n",
    "    if guess.lower() =='q':\n",
    "        print(f\"the number is {number}\")\n",
    "        break\n",
    "    \n",
    "\n",
    "    if number < 1 or number >100:\n",
    "        print(\"OUT OF BOUNDS\")\n",
    "        break\n",
    "\n",
    "    \n",
    "    "
   ]
  },
  {
   "cell_type": "markdown",
   "metadata": {},
   "source": [
    "#### Write a `while` loop that compares the player's guess to our number. If the player guesses correctly, break from the loop. Otherwise, tell the player if they're warmer or colder, and continue asking for guesses.\n",
    "\n",
    "Some hints:\n",
    "* it may help to sketch out all possible combinations on paper first!\n",
    "* you can use the `abs()` function to find the positive difference between two numbers\n",
    "* if you append all new guesses to the list, then the previous guess is given as `guesses[-2]`"
   ]
  },
  {
   "cell_type": "code",
   "execution_count": 3,
   "metadata": {},
   "outputs": [
    {
     "name": "stdout",
     "output_type": "stream",
     "text": [
      "Lets play the game\n",
      "WARMER\n",
      "WARMER\n",
      "COlDER\n",
      "the number is 86\n"
     ]
    }
   ],
   "source": [
    "\n",
    "import random\n",
    "a = 1\n",
    "b = 100\n",
    "number = random.randint(a,b)\n",
    "\n",
    "print(\"Lets play the game\")\n",
    "guesses = [0] \n",
    "\n",
    "while True:\n",
    "    guess = input(\"Enter a number or press q to quit : \")\n",
    "\n",
    "    if guess.lower() =='q':\n",
    "        print(f\"the number is {number}\")\n",
    "        break\n",
    "    \n",
    "    guess = int(guess) \n",
    "\n",
    "    if number < 1 or number >100:\n",
    "        print(\"OUT OF BOUNDS\")\n",
    "        break\n",
    "\n",
    "    if guess == number:\n",
    "        print(\"WOW , YOU WON THE GAME \")\n",
    "        break\n",
    "        \n",
    "   \n",
    "    guesses.append(guess)\n",
    "\n",
    "    if len(guesses) >= -2:\n",
    "        \n",
    "        if abs(number - guess) < abs (number - guesses[-2]):\n",
    "            print(\"WARMER\")\n",
    "        else:\n",
    "            print(\"COlDER\")\n",
    "    else:\n",
    "        if abs(number - guess) < 10:\n",
    "            print(\"WARM\")\n",
    "\n",
    "        else:\n",
    "            print(\"COLD\")"
   ]
  },
  {
   "cell_type": "code",
   "execution_count": null,
   "metadata": {},
   "outputs": [],
   "source": []
  },
  {
   "cell_type": "markdown",
   "metadata": {},
   "source": [
    "That's it! You've just programmed your first game!\n",
    "\n",
    "In the next section we'll learn how to turn some of these repetitive actions into *functions* that can be called whenever we need them."
   ]
  },
  {
   "cell_type": "markdown",
   "metadata": {},
   "source": [
    "### Good Job!"
   ]
  }
 ],
 "metadata": {
  "kernelspec": {
   "display_name": "Python 3",
   "language": "python",
   "name": "python3"
  },
  "language_info": {
   "codemirror_mode": {
    "name": "ipython",
    "version": 3
   },
   "file_extension": ".py",
   "mimetype": "text/x-python",
   "name": "python",
   "nbconvert_exporter": "python",
   "pygments_lexer": "ipython3",
   "version": "3.11.4"
  }
 },
 "nbformat": 4,
 "nbformat_minor": 2
}
